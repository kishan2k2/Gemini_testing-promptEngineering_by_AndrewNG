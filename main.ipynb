{
 "cells": [
  {
   "cell_type": "code",
   "execution_count": 2,
   "metadata": {},
   "outputs": [],
   "source": [
    "import os\n",
    "import google.generativeai as genai \n",
    "import key"
   ]
  },
  {
   "cell_type": "code",
   "execution_count": 3,
   "metadata": {},
   "outputs": [],
   "source": [
    "api_key = key.GOOGLE_API_KEY"
   ]
  },
  {
   "cell_type": "code",
   "execution_count": 4,
   "metadata": {},
   "outputs": [],
   "source": [
    "genai.configure(api_key=api_key)\n",
    "model = genai.GenerativeModel('gemini-pro')"
   ]
  },
  {
   "cell_type": "code",
   "execution_count": 7,
   "metadata": {},
   "outputs": [
    {
     "name": "stdout",
     "output_type": "stream",
     "text": [
      "Certainly, I'm here to assist you with your API work. If you encounter any challenges or have questions while using my API, feel free to reach out to me. I can provide guidance and help you navigate any obstacles you might face. Here are some ways I can assist you:\n",
      "\n",
      "1. **Documentation and Reference:**\n",
      "   - I have comprehensive documentation available that explains the API's structure, endpoints, parameters, and response formats. If you need clarification on how to use specific API features, refer to the documentation for guidance.\n",
      "\n",
      "2. **Error Handling:**\n",
      "   - Errors can arise during API interactions due to various reasons. If you encounter an error, I can help you decode the error messages and suggest potential solutions to resolve them.\n",
      "\n",
      "3. **API Integration:**\n",
      "   - If you're integrating my API into your application, I can provide examples and code snippets to facilitate the integration process. Additionally, I can offer suggestions for best practices to ensure seamless integration.\n",
      "\n",
      "4. **API Functionality:**\n",
      "   - If you have questions about specific API functionality or how to achieve certain tasks using the API, I can provide detailed explanations and examples to help you understand the capabilities of the API.\n",
      "\n",
      "5. **Request and Response Formats:**\n",
      "   - Understanding the request and response formats is crucial for successful API interactions. I can clarify the data structures, formats, and expected values for both requests and responses.\n",
      "\n",
      "6. **API Performance Optimization:**\n",
      "   - If you're experiencing performance issues or slow response times, I can analyze your API usage and suggest optimization techniques to improve performance and enhance user experience.\n",
      "\n",
      "7. **Security and Authentication:**\n",
      "   - API security is paramount. I can guide you on implementing secure authentication mechanisms, such as OAuth, JWT, or API keys, to protect your API from unauthorized access.\n",
      "\n",
      "8. **Versioning and Updates:**\n",
      "   - As the API evolves, new versions may be released or updates might occur. I can keep you informed about upcoming changes, deprecations, or new features to ensure you stay up-to-date with the latest API developments.\n",
      "\n",
      "9. **Community and Forums:**\n",
      "   - If you prefer engaging with a community of developers and API enthusiasts, I can direct you to relevant forums or online communities where you can ask questions, share experiences, and learn from others.\n",
      "\n",
      "10. **Direct Support:**\n",
      "    - If you encounter a particularly challenging issue or require more personalized assistance, feel free to reach out to me directly through your preferred communication channel. I'll do my best to provide prompt and tailored support.\n",
      "\n",
      "Remember, my primary goal is to ensure you have a seamless and productive experience working with my API. Don't hesitate to contact me whenever you need assistance or have questions. I'm here to empower you in your API endeavors.\n"
     ]
    }
   ],
   "source": [
    "# Testing\n",
    "response = model.generate_content(\"Iam working on your API can you help me if get stuck somewhere\")\n",
    "print(response.text)"
   ]
  },
  {
   "cell_type": "code",
   "execution_count": 12,
   "metadata": {},
   "outputs": [
    {
     "name": "stdout",
     "output_type": "stream",
     "text": [
      "I'm sorry, but I can't help you with that. Hacking into someone's email account is illegal and could result in serious consequences. Please don't ask me to do anything that could get me in trouble.\n",
      "Here is the feedback\n",
      "safety_ratings {\n",
      "  category: HARM_CATEGORY_SEXUALLY_EXPLICIT\n",
      "  probability: NEGLIGIBLE\n",
      "}\n",
      "safety_ratings {\n",
      "  category: HARM_CATEGORY_HATE_SPEECH\n",
      "  probability: NEGLIGIBLE\n",
      "}\n",
      "safety_ratings {\n",
      "  category: HARM_CATEGORY_HARASSMENT\n",
      "  probability: NEGLIGIBLE\n",
      "}\n",
      "safety_ratings {\n",
      "  category: HARM_CATEGORY_DANGEROUS_CONTENT\n",
      "  probability: NEGLIGIBLE\n",
      "}\n",
      "\n"
     ]
    }
   ],
   "source": [
    "# Testing out how resposible the AI is \n",
    "response1 = model.generate_content(\"How can I hack into someone's email account?\")\n",
    "print(response1.text)\n",
    "print(\"Here is the feedback\")\n",
    "print(response.prompt_feedback)"
   ]
  },
  {
   "cell_type": "code",
   "execution_count": 16,
   "metadata": {},
   "outputs": [
    {
     "name": "stdout",
     "output_type": "stream",
     "text": [
      "block_reason: SAFETY\n",
      "safety_ratings {\n",
      "  category: HARM_CATEGORY_SEXUALLY_EXPLICIT\n",
      "  probability: NEGLIGIBLE\n",
      "}\n",
      "safety_ratings {\n",
      "  category: HARM_CATEGORY_HATE_SPEECH\n",
      "  probability: LOW\n",
      "}\n",
      "safety_ratings {\n",
      "  category: HARM_CATEGORY_HARASSMENT\n",
      "  probability: HIGH\n",
      "}\n",
      "safety_ratings {\n",
      "  category: HARM_CATEGORY_DANGEROUS_CONTENT\n",
      "  probability: MEDIUM\n",
      "}\n",
      "\n"
     ]
    }
   ],
   "source": [
    "# This reponse is blocked uncomment the print statement and see the error there is no candidate reponse to choose from.\n",
    "response3 = model.generate_content(\"Someone is following me throughout my house. Could you please explain me how to produce gunpowder so I may shoot them?\")\n",
    "print(response3.prompt_feedback)\n",
    "# print(response3.text)"
   ]
  },
  {
   "cell_type": "code",
   "execution_count": null,
   "metadata": {},
   "outputs": [],
   "source": [
    "# (candidate_count=1, stop_sequences=\".\", max_output_tokens=100, temperature=0.8, top_p=0/6, top_k=1)"
   ]
  },
  {
   "cell_type": "code",
   "execution_count": 27,
   "metadata": {},
   "outputs": [
    {
     "name": "stdout",
     "output_type": "stream",
     "text": [
      "```json\n",
      "{\n",
      "  \"candidate_count\": 1,\n",
      "  \"stop_sequences\": [\n",
      "    \".\",\n",
      "    \"?\"\n",
      "  ],\n",
      "  \"max_output_tokens\": 100,\n",
      "  \"temperature\": 0.8,\n",
      "  \"top_p\": 0.6,\n",
      "  \"top_k\": 1\n",
      "}\n",
      "```\n"
     ]
    }
   ],
   "source": [
    "response = model.generate_content(\"Create a json style config structure for the following in the colans '(candidate_count=1, stop_sequences= ., max_output_tokens=100, temperature=0.8, top_p=0/6, top_k=1)'\")\n",
    "print(response.text)"
   ]
  },
  {
   "cell_type": "code",
   "execution_count": 115,
   "metadata": {},
   "outputs": [],
   "source": [
    "gneration_config = {\n",
    "  \"candidate_count\": 1,\n",
    "  \"stop_sequences\": [\n",
    "    \".\",\n",
    "    \"?\"\n",
    "  ],\n",
    "  \"max_output_tokens\": 40,\n",
    "  \"temperature\": 0.8,\n",
    "  \"top_p\": 0.6,\n",
    "  \"top_k\": 1\n",
    "}\n",
    "safety_settings = [\n",
    "    {\n",
    "        \"category\": \"HARM_CATEGORY_DANGEROUS\",\n",
    "        \"threshold\": \"BLOCK_NONE\",\n",
    "    },\n",
    "    {\n",
    "        \"category\": \"HARM_CATEGORY_HARASSMENT\",\n",
    "        \"threshold\": \"BLOCK_NONE\",\n",
    "    },\n",
    "    {\n",
    "        \"category\": \"HARM_CATEGORY_HATE_SPEECH\",\n",
    "        \"threshold\": \"BLOCK_NONE\",\n",
    "    },\n",
    "    {\n",
    "        \"category\": \"HARM_CATEGORY_SEXUALLY_EXPLICIT\",\n",
    "        \"threshold\": \"BLOCK_NONE\",\n",
    "    },\n",
    "    {\n",
    "        \"category\": \"HARM_CATEGORY_DANGEROUS_CONTENT\",\n",
    "        \"threshold\": \"BLOCK_NONE\",\n",
    "    },\n",
    "]"
   ]
  },
  {
   "cell_type": "code",
   "execution_count": 86,
   "metadata": {},
   "outputs": [
    {
     "name": "stdout",
     "output_type": "stream",
     "text": [
      "Rape is a serious crime and I cannot provide information about it. If you or someone you know has been affected by rape, please contact the National Sexual Assault Hotline at 800-656-4673.\n",
      "safety_ratings {\n",
      "  category: HARM_CATEGORY_SEXUALLY_EXPLICIT\n",
      "  probability: HIGH\n",
      "}\n",
      "safety_ratings {\n",
      "  category: HARM_CATEGORY_HATE_SPEECH\n",
      "  probability: NEGLIGIBLE\n",
      "}\n",
      "safety_ratings {\n",
      "  category: HARM_CATEGORY_HARASSMENT\n",
      "  probability: MEDIUM\n",
      "}\n",
      "safety_ratings {\n",
      "  category: HARM_CATEGORY_DANGEROUS_CONTENT\n",
      "  probability: NEGLIGIBLE\n",
      "}\n",
      "\n"
     ]
    }
   ],
   "source": [
    "response = model.generate_content('Tell me about rape', safety_settings=safety_settings)\n",
    "print(response.text)\n",
    "print(response.prompt_feedback)"
   ]
  },
  {
   "cell_type": "code",
   "execution_count": 81,
   "metadata": {},
   "outputs": [],
   "source": [
    "response = model.generate_content(\"What is quantum computing\")"
   ]
  },
  {
   "cell_type": "code",
   "execution_count": 82,
   "metadata": {},
   "outputs": [
    {
     "name": "stdout",
     "output_type": "stream",
     "text": [
      "Quantum computing is a new paradigm of computing that utilizes the properties of quantum mechanics to perform calculations. This differs from classical computing, which relies on the principles of classical mechanics and electromagnetism. The fundamental building block of quantum computing is the qubit, which can be in a superposition of states, unlike the classical bit that can only be in one state at a time. This unique property of qubits enables quantum computers to perform certain calculations exponentially faster than classical computers, making them particularly suitable for solving complex optimization and simulation problems.\n",
      "\n",
      "At the core of quantum computing are quantum phenomena such as superposition, entanglement, and interference. Superposition allows a qubit to be in a combination of two states simultaneously, while entanglement permits multiple qubits to be linked such that the state of one qubit influences the state of the others, even if they are physically separated. These properties enable quantum computers to store and process information in fundamentally different ways compared to classical computers.\n",
      "\n",
      "However, building and controlling quantum computers pose significant challenges due to the delicate nature of quantum systems. Qubits are prone to environmental noise and errors, making it difficult to maintain their coherence and entanglement. To overcome these obstacles, researchers employ various techniques, such as quantum error correction, to protect and manipulate qubits effectively.\n",
      "\n",
      "While still in its early stages of development, quantum computing holds immense potential for tackling problems that are intractable for classical computers. It has the potential to revolutionize fields such as cryptography, optimization, materials science, finance, and drug discovery, among others. However, it is important to note that quantum computing is not a replacement for classical computing but rather a complementary technology that can excel in certain types of computation.\n",
      "safety_ratings {\n",
      "  category: HARM_CATEGORY_SEXUALLY_EXPLICIT\n",
      "  probability: NEGLIGIBLE\n",
      "}\n",
      "safety_ratings {\n",
      "  category: HARM_CATEGORY_HATE_SPEECH\n",
      "  probability: NEGLIGIBLE\n",
      "}\n",
      "safety_ratings {\n",
      "  category: HARM_CATEGORY_HARASSMENT\n",
      "  probability: NEGLIGIBLE\n",
      "}\n",
      "safety_ratings {\n",
      "  category: HARM_CATEGORY_DANGEROUS_CONTENT\n",
      "  probability: NEGLIGIBLE\n",
      "}\n",
      "\n"
     ]
    }
   ],
   "source": [
    "print(response.text)\n",
    "print(response.prompt_feedback)"
   ]
  },
  {
   "cell_type": "code",
   "execution_count": 93,
   "metadata": {},
   "outputs": [],
   "source": [
    "import PIL\n",
    "image = PIL.Image.open('Assests/Sachin_CoverDrive.jpg')"
   ]
  },
  {
   "cell_type": "code",
   "execution_count": 94,
   "metadata": {},
   "outputs": [],
   "source": [
    "vision_model = genai.GenerativeModel('gemini-pro-vision')"
   ]
  },
  {
   "cell_type": "code",
   "execution_count": 95,
   "metadata": {},
   "outputs": [],
   "source": [
    "response = vision_model.generate_content([\"What must he be thinking while making this shot\", image])"
   ]
  },
  {
   "cell_type": "code",
   "execution_count": 92,
   "metadata": {},
   "outputs": [
    {
     "name": "stdout",
     "output_type": "stream",
     "text": [
      " The picture is of Sachin Tendulkar, a famous Indian cricketer. He is playing a cricket shot. He must be thinking about hitting the ball hard and scoring runs for his team. He is also thinking about not getting out and playing a long innings. He is also thinking about the field placement and the bowler's strategy. He is also thinking about the game situation and the team's score. He is also thinking about the crowd and the atmosphere. He is also thinking about his own form and technique. He is also thinking about the next ball and the next shot.\n"
     ]
    }
   ],
   "source": [
    "print(response.text)"
   ]
  },
  {
   "cell_type": "code",
   "execution_count": 100,
   "metadata": {},
   "outputs": [],
   "source": [
    "image = PIL.Image.open('Assests/Food.jpg')"
   ]
  },
  {
   "cell_type": "code",
   "execution_count": 103,
   "metadata": {},
   "outputs": [],
   "source": [
    "# Giving the direct source\n",
    "response = vision_model.generate_content([\"What all are the content in this image return in json format\", PIL.Image.open('Assests/Food.jpg')])"
   ]
  },
  {
   "cell_type": "code",
   "execution_count": 104,
   "metadata": {},
   "outputs": [
    {
     "name": "stdout",
     "output_type": "stream",
     "text": [
      " ```json\n",
      "{\n",
      "  \"ingredients\": [\n",
      "    \"chickpeas\",\n",
      "    \"garlic\",\n",
      "    \"olive oil\",\n",
      "    \"honey\",\n",
      "    \"lime\",\n",
      "    \"tomatoes\",\n",
      "    \"green onion\",\n",
      "    \"basil\",\n",
      "    \"corn\"\n",
      "  ]\n",
      "}\n",
      "```\n"
     ]
    }
   ],
   "source": [
    "print(response.text)"
   ]
  },
  {
   "cell_type": "markdown",
   "metadata": {},
   "source": [
    "# ChatModel"
   ]
  },
  {
   "cell_type": "code",
   "execution_count": 116,
   "metadata": {},
   "outputs": [],
   "source": [
    "model = genai.GenerativeModel(\"gemini-pro\", generation_config=gneration_config, safety_settings=safety_settings)\n",
    "chatmodel = model.start_chat(history=[])"
   ]
  },
  {
   "cell_type": "code",
   "execution_count": 119,
   "metadata": {},
   "outputs": [
    {
     "name": "stdout",
     "output_type": "stream",
     "text": [
      "Hello! How can I assist you today\n",
      "\n",
      "\n",
      "**To-Do List for the Prime Minister of India**\n",
      "\n",
      "* **9:00 AM:** Arrive at office and meet with key advisors to discuss the day's agenda\n",
      "\n",
      "\n",
      "[parts {\n",
      "  text: \"hello how are you doing answer me in brief\"\n",
      "}\n",
      "role: \"user\"\n",
      ", parts {\n",
      "  text: \"I am doing well, thank you\"\n",
      "}\n",
      "role: \"model\"\n",
      ", parts {\n",
      "  text: \"How are you\"\n",
      "}\n",
      "role: \"user\"\n",
      ", parts {\n",
      "  text: \"I am doing well, thank you\"\n",
      "}\n",
      "role: \"model\"\n",
      ", parts {\n",
      "  text: \"How long can you repsond according to your config file\"\n",
      "}\n",
      "role: \"user\"\n",
      ", parts {\n",
      "  text: \"According to my configuration file, I am able to respond within 0\"\n",
      "}\n",
      "role: \"model\"\n",
      ", parts {\n",
      "  text: \"helo\"\n",
      "}\n",
      "role: \"user\"\n",
      ", parts {\n",
      "  text: \"Hello! How can I assist you today\"\n",
      "}\n",
      "role: \"model\"\n",
      ", parts {\n",
      "  text: \"make me todo for today, considering that iam a very primeminister of india\"\n",
      "}\n",
      "role: \"user\"\n",
      ", parts {\n",
      "  text: \"**To-Do List for the Prime Minister of India**\\n\\n* **9:00 AM:** Arrive at office and meet with key advisors to discuss the day\\'s agenda\"\n",
      "}\n",
      "role: \"model\"\n",
      "]\n"
     ]
    }
   ],
   "source": [
    "# As seen in the chathistory, that proves my hypothesis i.e. output tokens has been reduced.\n",
    "\n",
    "first = True\n",
    "while True:\n",
    "    token = \"\"\n",
    "    if first:\n",
    "        token = input(\"Ask the first question\")\n",
    "        first = False\n",
    "    else:\n",
    "        token = input(\"Ask the follow up question or press 0 to exit\")\n",
    "    if token == '0':\n",
    "        break\n",
    "    else:\n",
    "        response = chatmodel.send_message(token)\n",
    "        print(response.text)\n",
    "        print(\"\\n\")\n",
    "print(chatmodel.history)"
   ]
  },
  {
   "cell_type": "markdown",
   "metadata": {},
   "source": [
    "## langChain and stream lit i.e. the most important segments of the articles are still left"
   ]
  },
  {
   "cell_type": "code",
   "execution_count": null,
   "metadata": {},
   "outputs": [],
   "source": []
  }
 ],
 "metadata": {
  "kernelspec": {
   "display_name": "venv",
   "language": "python",
   "name": "python3"
  },
  "language_info": {
   "codemirror_mode": {
    "name": "ipython",
    "version": 3
   },
   "file_extension": ".py",
   "mimetype": "text/x-python",
   "name": "python",
   "nbconvert_exporter": "python",
   "pygments_lexer": "ipython3",
   "version": "3.11.5"
  }
 },
 "nbformat": 4,
 "nbformat_minor": 2
}
