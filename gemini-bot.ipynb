{
 "cells": [
  {
   "cell_type": "code",
   "execution_count": 2,
   "metadata": {},
   "outputs": [
    {
     "name": "stderr",
     "output_type": "stream",
     "text": [
      "m:\\Third Year\\Sixth Semester\\Projects\\Gemini_testing-promptEngineering_by_AndrewNG\\venv\\Lib\\site-packages\\tqdm\\auto.py:21: TqdmWarning: IProgress not found. Please update jupyter and ipywidgets. See https://ipywidgets.readthedocs.io/en/stable/user_install.html\n",
      "  from .autonotebook import tqdm as notebook_tqdm\n"
     ]
    }
   ],
   "source": [
    "import streamlit as st\n",
    "import os\n",
    "import google.generativeai as genai\n"
   ]
  },
  {
   "cell_type": "code",
   "execution_count": 3,
   "metadata": {},
   "outputs": [],
   "source": [
    "genai.configure(api_key=os.environ.get('GOOGLE_API_KEY'))"
   ]
  },
  {
   "cell_type": "code",
   "execution_count": 4,
   "metadata": {},
   "outputs": [],
   "source": [
    "model = genai.GenerativeModel('gemini-pro')"
   ]
  },
  {
   "cell_type": "markdown",
   "metadata": {},
   "source": [
    "This chatmodel will not hold any chathistory, i.e. make interpretaion or have context of the previously asked query?"
   ]
  },
  {
   "cell_type": "markdown",
   "metadata": {},
   "source": [
    "# Donot run the streamlit app from here it wont run \n",
    "read here -: https://github.com/streamlit/streamlit/issues/7290\n",
    "https://github.com/streamlit/streamlit/issues/7851\n"
   ]
  },
  {
   "cell_type": "code",
   "execution_count": null,
   "metadata": {},
   "outputs": [],
   "source": [
    "#initiate the chathistory\n",
    "if 'messages' not in st.session_state:\n",
    "    st.session_state.messages=[\n",
    "        {\n",
    "            \"role\":\"assistant\",\n",
    "            \"content\":\"Ask me anything\"\n",
    "        }\n",
    "    ]\n",
    "# Displying chathistory on restart.\n",
    "for message in st.session_state.messages:\n",
    "    with st.chat_message(message['role']):\n",
    "        st.markdown(message['content'])\n",
    "# Process, display and store query and response.\n",
    "def llm_function(Query):\n",
    "    response = model.generate_content(Query)\n",
    "    # Displaying users message and assistant response as well.\n",
    "    with st.chat_message('user'):\n",
    "        st.markdown(Query)\n",
    "    with st.chat_message('assistant'):\n",
    "        st.markdown(response.text)\n",
    "    # Storing user message and query\n",
    "    st.session_state.messages.append(\n",
    "        {\n",
    "            'role':'user',\n",
    "            'content':Query\n",
    "        },\n",
    "        {\n",
    "            'role':'assitant',\n",
    "            'content':response.text\n",
    "        }\n",
    "    )\n",
    "query = st.chat_input(\"hey hey what's up big boi\")\n",
    "if query:\n",
    "    llm_function(query)"
   ]
  },
  {
   "cell_type": "code",
   "execution_count": null,
   "metadata": {},
   "outputs": [],
   "source": []
  }
 ],
 "metadata": {
  "kernelspec": {
   "display_name": "venv",
   "language": "python",
   "name": "python3"
  },
  "language_info": {
   "codemirror_mode": {
    "name": "ipython",
    "version": 3
   },
   "file_extension": ".py",
   "mimetype": "text/x-python",
   "name": "python",
   "nbconvert_exporter": "python",
   "pygments_lexer": "ipython3",
   "version": "3.11.5"
  }
 },
 "nbformat": 4,
 "nbformat_minor": 2
}
